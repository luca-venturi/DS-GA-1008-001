{
  "nbformat": 4,
  "nbformat_minor": 0,
  "metadata": {
    "colab": {
      "name": "GNN_planted_clique.ipynb",
      "version": "0.3.2",
      "views": {},
      "default_view": {},
      "provenance": [],
      "collapsed_sections": []
    },
    "kernelspec": {
      "display_name": "Python 3",
      "language": "python",
      "name": "python3"
    },
    "accelerator": "GPU"
  },
  "cells": [
    {
      "metadata": {
        "id": "DcQsqc_0AQra",
        "colab_type": "text"
      },
      "cell_type": "markdown",
      "source": [
        "### Initialization"
      ]
    },
    {
      "metadata": {
        "id": "G30iqwTmhgal",
        "colab_type": "code",
        "colab": {
          "autoexec": {
            "startup": false,
            "wait_interval": 0
          }
        }
      },
      "cell_type": "code",
      "source": [
        "# http://pytorch.org/\n",
        "from os import path\n",
        "from wheel.pep425tags import get_abbr_impl, get_impl_ver, get_abi_tag\n",
        "platform = '{}{}-{}'.format(get_abbr_impl(), get_impl_ver(), get_abi_tag())\n",
        "\n",
        "accelerator = 'cu80' if path.exists('/opt/bin/nvidia-smi') else 'cpu'\n",
        "\n",
        "!pip install -q http://download.pytorch.org/whl/{accelerator}/torch-0.3.0.post4-{platform}-linux_x86_64.whl torchvision\n",
        "import torch"
      ],
      "execution_count": 0,
      "outputs": []
    },
    {
      "metadata": {
        "id": "uyaXrUEwVbqi",
        "colab_type": "code",
        "colab": {
          "autoexec": {
            "startup": false,
            "wait_interval": 0
          }
        }
      },
      "cell_type": "code",
      "source": [
        "import torch\n",
        "import torch.nn as nn\n",
        "from torch.nn import init\n",
        "from torch.autograd import Variable\n",
        "import torch.optim as optim\n",
        "import torch.nn.functional as F\n",
        "\n",
        "import numpy as np\n",
        "import networkx as nx\n",
        "import matplotlib.pyplot as plt"
      ],
      "execution_count": 0,
      "outputs": []
    },
    {
      "metadata": {
        "id": "j2C6EYvy8iXG",
        "colab_type": "code",
        "colab": {
          "autoexec": {
            "startup": false,
            "wait_interval": 0
          }
        }
      },
      "cell_type": "code",
      "source": [
        "dtype = torch.cuda.FloatTensor\n",
        "dtype_l = torch.cuda.LongTensor"
      ],
      "execution_count": 0,
      "outputs": []
    },
    {
      "metadata": {
        "id": "bIplHBdirPXS",
        "colab_type": "text"
      },
      "cell_type": "markdown",
      "source": [
        "### Data generator"
      ]
    },
    {
      "metadata": {
        "id": "4VAxrmBfVbqO",
        "colab_type": "code",
        "colab": {
          "autoexec": {
            "startup": false,
            "wait_interval": 0
          },
          "base_uri": "https://localhost:8080/",
          "height": 2066
        },
        "outputId": "718a5a7b-d60a-4299-98f5-539270347c27",
        "executionInfo": {
          "status": "ok",
          "timestamp": 1525803330874,
          "user_tz": 240,
          "elapsed": 1870,
          "user": {
            "displayName": "Luca Venturi",
            "photoUrl": "https://lh3.googleusercontent.com/a/default-user=s128",
            "userId": "101973500851832681079"
          }
        }
      },
      "cell_type": "code",
      "source": [
        "class dataGenerator:\n",
        "    def __init__(self):\n",
        "        self.NUM_SAMPLES_train = int(10e6)\n",
        "        self.NUM_SAMPLES_test = int(10e4)\n",
        "        self.data_train = []\n",
        "        self.data_test = []\n",
        "        self.J = 3\n",
        "        self.N = 50\n",
        "        self.edge_density = 0.5\n",
        "        self.clique_size = 10\n",
        "        \n",
        "    def ErdosRenyi(self, p, N):\n",
        "        G = nx.erdos_renyi_graph(N, p)\n",
        "        W = nx.adjacency_matrix(G).todense().astype(float)\n",
        "        W = np.array(W)\n",
        "        return W\n",
        "      \n",
        "    def plantedClique(self, p, N, C):\n",
        "        W = self.ErdosRenyi(p, N)\n",
        "        clique = np.random.choice(N, C, replace=False)\n",
        "        for i in clique:\n",
        "            for j in clique:\n",
        "                if j != i:\n",
        "                    W[i,j] = 1\n",
        "        clique_labeling = np.zeros((N), dtype=np.int)\n",
        "        for i in clique:\n",
        "            clique_labeling[i] = 1\n",
        "        return W, clique_labeling\n",
        "      \n",
        "    def find_max_clique_size(self, W):  \n",
        "        G = nx.from_numpy_matrix(W)\n",
        "        cliques = list(nx.find_cliques(G))\n",
        "        if isinstance(cliques[0], int):\n",
        "            return len(cliques)\n",
        "        else:\n",
        "            for i in range(len(cliques)):\n",
        "                cliques[i] = len(cliques[i])\n",
        "            return max(cliques)\n",
        "      \n",
        "    def average_clique(self, sample):\n",
        "        sample_size = sample.shape[0]\n",
        "        cliques = []\n",
        "        for i in range(sample_size):\n",
        "            cliques.append(self.find_max_clique_size(sample[i, :, :, 1].data.cpu().numpy()))\n",
        "        return np.mean(cliques)\n",
        "        \n",
        "    def compute_operators(self, W):\n",
        "        N = W.shape[0]\n",
        "        # OP = operators: {Id, W, W^2, ..., W^{J-1}, D, U}\n",
        "        deg = W.sum(1)\n",
        "        D = np.diag(deg)\n",
        "        W_pow = W.copy()\n",
        "        OP = np.zeros([N, N, self.J + 2])\n",
        "        OP[:, :, 0] = np.eye(N)\n",
        "        for j in range(self.J):\n",
        "            OP[:, :, j + 1] = W_pow.copy()\n",
        "            # W_pow = np.minimum(np.dot(W_pow, W_pow), np.ones(W_pow.shape))\n",
        "            W_pow = np.minimum(np.dot(W_pow, W), np.ones(W_pow.shape))\n",
        "        OP[:, :, self.J] = D\n",
        "        OP[:, :, self.J + 1] = np.ones((N, N)) * (1.0 / float(N))\n",
        "        x = np.reshape(deg, (N, 1))\n",
        "        return OP, x\n",
        "        \n",
        "    def compute_sample(self):\n",
        "        sample = {}\n",
        "        W, c = self.plantedClique(self.edge_density, self.N, self.clique_size)\n",
        "        sample['OP'], sample['x'] = self.compute_operators(W)\n",
        "        sample['c'] = c\n",
        "        return sample\n",
        "    \n",
        "    def create_train_dataset(self):\n",
        "        self.data_train = []\n",
        "        for _ in range(self.NUM_SAMPLES_train):\n",
        "            sample = self.compute_sample()\n",
        "            self.data_train.append(sample)\n",
        "            \n",
        "    def create_test_dataset(self):\n",
        "        self.data_test = []\n",
        "        for _ in range(self.NUM_SAMPLES_test):\n",
        "            sample = self.compute_sample()\n",
        "            self.data_test.append(sample)\n",
        "            \n",
        "    def sample_batch(self, BATCH_SIZE, is_training=True, cuda=True, volatile=False):\n",
        "        if is_training:\n",
        "            data = self.data_train\n",
        "        else:\n",
        "            data = self.data_test\n",
        "        OP_size = data[0]['OP'].shape\n",
        "        x_size = data[0]['x'].shape\n",
        "        c_size = data[0]['c'].shape\n",
        "        \n",
        "        OP = torch.zeros(OP_size).expand(BATCH_SIZE, *OP_size)\n",
        "        x = torch.zeros(x_size).expand(BATCH_SIZE, *x_size)\n",
        "        c = torch.zeros(c_size).expand(BATCH_SIZE, *c_size)\n",
        "        \n",
        "        for i in range(BATCH_SIZE):\n",
        "            if is_training:\n",
        "                ind = np.random.randint(0, len(data))\n",
        "            else:\n",
        "                ind = i\n",
        "            OP[i] = torch.from_numpy(data[ind]['OP'])\n",
        "            x[i] = torch.from_numpy(data[ind]['x'])\n",
        "            c[i] = torch.from_numpy(data[ind]['c'])\n",
        "            \n",
        "        OP = Variable(OP, volatile=volatile)\n",
        "        x = Variable(x, volatile=volatile)\n",
        "        c = Variable(c, volatile=volatile)\n",
        "        \n",
        "        if cuda:\n",
        "            return [OP.cuda(), x.cuda()], c.cuda()\n",
        "        else:\n",
        "            return [OP, x, c]\n",
        "          \n",
        "# Test\n",
        "\n",
        "generator = dataGenerator()\n",
        "generator.NUM_SAMPLES_train = 100\n",
        "generator.NUM_SAMPLES_test = 100\n",
        "generator.N = 50\n",
        "J = 5\n",
        "generator.J = J-2\n",
        "generator.create_train_dataset()\n",
        "generator.create_test_dataset()\n",
        "G, c = generator.sample_batch(32)\n",
        "print(G[0].shape,x.shape, c.shape)\n",
        "print(G[0][0, :, :, 1])\n",
        "print(G[1][0, :, 0], c[0, :])\n",
        "print(sum(c[0,:].data.cpu().numpy()))\n",
        "print(generator.average_clique(G[0]))\n",
        "\n",
        "# Test: OK\n"
      ],
      "execution_count": 70,
      "outputs": [
        {
          "output_type": "stream",
          "text": [
            "torch.Size([32, 50, 50, 5]) torch.Size([32, 50, 1]) torch.Size([32, 50])\n",
            "Variable containing:\n",
            "    0     0     0  ...      1     1     1\n",
            "    0     0     1  ...      1     1     0\n",
            "    0     1     0  ...      1     0     0\n",
            "       ...          ⋱          ...       \n",
            "    1     1     1  ...      0     1     1\n",
            "    1     1     0  ...      1     0     0\n",
            "    1     0     0  ...      1     0     0\n",
            "[torch.cuda.FloatTensor of size 50x50 (GPU 0)]\n",
            "\n",
            "Variable containing:\n",
            " 25\n",
            " 26\n",
            " 25\n",
            " 23\n",
            " 24\n",
            " 28\n",
            " 32\n",
            " 21\n",
            " 30\n",
            " 24\n",
            " 27\n",
            " 19\n",
            " 23\n",
            " 28\n",
            " 26\n",
            " 28\n",
            " 22\n",
            " 22\n",
            " 23\n",
            " 31\n",
            " 23\n",
            " 21\n",
            " 27\n",
            " 27\n",
            " 24\n",
            " 29\n",
            " 22\n",
            " 25\n",
            " 25\n",
            " 31\n",
            " 34\n",
            " 24\n",
            " 26\n",
            " 28\n",
            " 24\n",
            " 30\n",
            " 25\n",
            " 27\n",
            " 23\n",
            " 26\n",
            " 27\n",
            " 30\n",
            " 26\n",
            " 27\n",
            " 19\n",
            " 35\n",
            " 25\n",
            " 33\n",
            " 29\n",
            " 23\n",
            "[torch.cuda.FloatTensor of size 50 (GPU 0)]\n",
            " Variable containing:\n",
            " 0\n",
            " 0\n",
            " 0\n",
            " 0\n",
            " 0\n",
            " 1\n",
            " 1\n",
            " 0\n",
            " 1\n",
            " 0\n",
            " 0\n",
            " 0\n",
            " 0\n",
            " 1\n",
            " 1\n",
            " 1\n",
            " 0\n",
            " 0\n",
            " 0\n",
            " 0\n",
            " 0\n",
            " 0\n",
            " 0\n",
            " 0\n",
            " 0\n",
            " 1\n",
            " 0\n",
            " 0\n",
            " 0\n",
            " 0\n",
            " 1\n",
            " 0\n",
            " 0\n",
            " 0\n",
            " 0\n",
            " 0\n",
            " 0\n",
            " 0\n",
            " 0\n",
            " 0\n",
            " 0\n",
            " 1\n",
            " 0\n",
            " 0\n",
            " 0\n",
            " 1\n",
            " 0\n",
            " 0\n",
            " 0\n",
            " 0\n",
            "[torch.cuda.FloatTensor of size 50 (GPU 0)]\n",
            "\n",
            "10.0\n",
            "10.0\n"
          ],
          "name": "stdout"
        }
      ]
    },
    {
      "metadata": {
        "id": "fvh2FOMygjVq",
        "colab_type": "text"
      },
      "cell_type": "markdown",
      "source": [
        "### GNN Model"
      ]
    },
    {
      "metadata": {
        "id": "T7OrzwsVOzgA",
        "colab_type": "code",
        "colab": {
          "autoexec": {
            "startup": false,
            "wait_interval": 0
          },
          "base_uri": "https://localhost:8080/",
          "height": 208
        },
        "outputId": "e07366af-7bcb-46dc-9d18-cca6d2d1dc3f",
        "executionInfo": {
          "status": "ok",
          "timestamp": 1525803388922,
          "user_tz": 240,
          "elapsed": 470,
          "user": {
            "displayName": "Luca Venturi",
            "photoUrl": "https://lh3.googleusercontent.com/a/default-user=s128",
            "userId": "101973500851832681079"
          }
        }
      },
      "cell_type": "code",
      "source": [
        "def gmul(input):\n",
        "    W, x = input\n",
        "    # x is a tensor of size (bs, N, num_features)\n",
        "    # W is a tensor of size (bs, N, N, J)\n",
        "    N = W.size()[-2]\n",
        "    W = W.split(1, 3) # W is a list of J tensors of size (bs, N, N, 1)\n",
        "    W = torch.cat(W, 1).squeeze(3) # W is now a tensor of size (bs, J*N, N)\n",
        "    output = torch.bmm(W, x) # matrix multiplication (J*N,N) x (N,num_features): output has size (bs, J*N, num_features)\n",
        "    output = output.split(N, 1) # output is a list of J tensors of size (bs, N, num_features)\n",
        "    output = torch.cat(output, 2)\n",
        "    # output has size (bs, N, J*num_features)\n",
        "    return output\n",
        "\n",
        "class Gconv(nn.Module):\n",
        "    def __init__(self, feature_maps, J):\n",
        "        super(Gconv, self).__init__()\n",
        "        self.num_inputs = J*feature_maps[0] # size of the input\n",
        "        self.num_outputs = feature_maps[1] # size of the output\n",
        "        self.fc1 = nn.Linear(self.num_inputs, self.num_outputs // 2)\n",
        "        self.fc2 = nn.Linear(self.num_inputs, self.num_outputs // 2)\n",
        "        self.bn = nn.BatchNorm1d(self.num_outputs)\n",
        "\n",
        "    def forward(self, input):\n",
        "        W = input[0]\n",
        "        x = gmul(input) # x has size (bs, N, num_inputs)\n",
        "        x_size = x.size()\n",
        "        x = x.contiguous() # makes sure that x is stored in a contiguous chunk of memory\n",
        "        x = x.view(-1, self.num_inputs)\n",
        "        x1 = F.relu(self.fc1(x)) # x_1 has size (bs*N, num_outputs // 2)\n",
        "        x2 = self.fc2(x) # x_2 has size (bs*N, num_outputs // 2)\n",
        "        x = torch.cat((x1, x2), 1) # x has size (bs*N, num_outputs)\n",
        "        x = self.bn(x)\n",
        "        x = x.view(*x_size[:-1], self.num_outputs) # x has size (bs, N, num_outputs)\n",
        "        return W, x\n",
        "      \n",
        "class Gconv_last(nn.Module):\n",
        "    def __init__(self, feature_maps, J):\n",
        "        super(Gconv_last, self).__init__()\n",
        "        self.num_inputs = J*feature_maps[0] # size of the input\n",
        "        self.num_outputs = feature_maps[1] # size of the output\n",
        "        self.fc = nn.Linear(self.num_inputs, self.num_outputs) # the only difference is that there is no activations layer\n",
        "\n",
        "    def forward(self, input):\n",
        "        W = input[0]\n",
        "        x = gmul(input) # out has size (bs, N, num_inputs)\n",
        "        x_size = x.size()\n",
        "        x = x.contiguous()\n",
        "        x = x.view(x_size[0]*x_size[1], -1) # x has size (bs*N, num_inputs)\n",
        "        x = self.fc(x) # x has size (bs*N, num_outputs)\n",
        "        x = x.view(*x_size[:-1], self.num_outputs) # x has size (bs, N, num_outputs)\n",
        "        x = x.squeeze(2)\n",
        "        # x = x.permute(0, 2, 1) # x has size (bs, num_outputs=2, N)\n",
        "        return W, x\n",
        "\n",
        "class GNN(nn.Module):\n",
        "    def __init__(self, num_features, num_layers, J):\n",
        "        super(GNN, self).__init__()\n",
        "        self.num_features = num_features\n",
        "        self.num_layers = num_layers\n",
        "        self.featuremap_first = [1, num_features]\n",
        "        self.featuremap = [num_features, num_features]\n",
        "        self.featuremap_last = [num_features, 1]\n",
        "        self.layer0 = Gconv(self.featuremap_first, J)\n",
        "        for i in range(num_layers):\n",
        "            module = Gconv(self.featuremap, J)\n",
        "            self.add_module('layer{}'.format(i + 1), module)\n",
        "        self.layerlast = Gconv_last(self.featuremap_last, J)\n",
        "\n",
        "    def forward(self, input):\n",
        "        cur = self.layer0(input)\n",
        "        for i in range(self.num_layers):\n",
        "            cur = self._modules['layer{}'.format(i+1)](cur)\n",
        "        out = self.layerlast(cur)\n",
        "        return out[1]\n",
        "      \n",
        "def predict_clique(y):\n",
        "    return torch.ge(y, 0.5).type(dtype)\n",
        "  \n",
        "# Test\n",
        "\n",
        "num_features = 10\n",
        "num_layers = 5\n",
        "gnn = GNN(num_features, num_layers, J).type(dtype)\n",
        "G, c = generator.sample_batch(32)\n",
        "out = gnn(G)\n",
        "print(out.size(), c.size())\n",
        "print(predict_clique(out))\n",
        "\n",
        "# Test: OK"
      ],
      "execution_count": 71,
      "outputs": [
        {
          "output_type": "stream",
          "text": [
            "torch.Size([32, 50]) torch.Size([32, 50])\n",
            "Variable containing:\n",
            "    0     1     0  ...      0     0     1\n",
            "    0     1     0  ...      0     0     1\n",
            "    0     1     0  ...      0     0     1\n",
            "       ...          ⋱          ...       \n",
            "    0     1     0  ...      0     0     1\n",
            "    0     1     0  ...      0     0     1\n",
            "    0     1     0  ...      0     0     1\n",
            "[torch.cuda.FloatTensor of size 32x50 (GPU 0)]\n",
            "\n"
          ],
          "name": "stdout"
        }
      ]
    },
    {
      "metadata": {
        "id": "I4-8O1m49VhA",
        "colab_type": "text"
      },
      "cell_type": "markdown",
      "source": [
        "### Loss function"
      ]
    },
    {
      "metadata": {
        "id": "ht3hYCa7Ozgc",
        "colab_type": "code",
        "colab": {
          "autoexec": {
            "startup": false,
            "wait_interval": 0
          },
          "base_uri": "https://localhost:8080/",
          "height": 86
        },
        "outputId": "b97bf3a4-dc53-4eb5-ef56-96229bf8130f",
        "executionInfo": {
          "status": "ok",
          "timestamp": 1525803398136,
          "user_tz": 240,
          "elapsed": 318,
          "user": {
            "displayName": "Luca Venturi",
            "photoUrl": "https://lh3.googleusercontent.com/a/default-user=s128",
            "userId": "101973500851832681079"
          }
        }
      },
      "cell_type": "code",
      "source": [
        "base_loss = nn.BCEWithLogitsLoss()\n",
        "\n",
        "def compute_loss(pred, labels):\n",
        "    pred = pred.view(-1)\n",
        "    labels = labels.view(-1)\n",
        "    return base_loss(pred, labels)\n",
        "  \n",
        "# Test\n",
        "\n",
        "print(compute_loss(out,c))\n",
        "\n",
        "# Test: OK"
      ],
      "execution_count": 72,
      "outputs": [
        {
          "output_type": "stream",
          "text": [
            "Variable containing:\n",
            " 1.3418\n",
            "[torch.cuda.FloatTensor of size 1 (GPU 0)]\n",
            "\n"
          ],
          "name": "stdout"
        }
      ]
    },
    {
      "metadata": {
        "id": "m7pLn2lqBx-6",
        "colab_type": "text"
      },
      "cell_type": "markdown",
      "source": [
        "### Optimizer"
      ]
    },
    {
      "metadata": {
        "id": "Xr2XtjK3B3gw",
        "colab_type": "code",
        "colab": {
          "autoexec": {
            "startup": false,
            "wait_interval": 0
          }
        }
      },
      "cell_type": "code",
      "source": [
        "def get_optimizer(model):\n",
        "    optimizer = optim.Adam(model.type(dtype).parameters(), lr=1e-3)\n",
        "    return optimizer"
      ],
      "execution_count": 0,
      "outputs": []
    },
    {
      "metadata": {
        "id": "UMBxKhQAS36A",
        "colab_type": "text"
      },
      "cell_type": "markdown",
      "source": [
        "### Logger"
      ]
    },
    {
      "metadata": {
        "id": "Rwt2nQxbL7PE",
        "colab_type": "code",
        "colab": {
          "autoexec": {
            "startup": false,
            "wait_interval": 0
          }
        }
      },
      "cell_type": "code",
      "source": [
        "def compute_recovery_rate(pred, labels):\n",
        "    pred = predict_clique(pred)\n",
        "    error = 1 - torch.eq(pred, labels).type(dtype)\n",
        "    frob_norm = error.mean(1)\n",
        "    accuracy = 1 - frob_norm\n",
        "    accuracy = accuracy.mean(0).squeeze()\n",
        "    return accuracy.data.cpu().numpy()[0]\n",
        "\n",
        "class make_logger(object):\n",
        "    def __init__(self):\n",
        "        self.loss_train = []\n",
        "        self.loss_test = []\n",
        "        self.accuracy_train = []\n",
        "        self.accuracy_test = []\n",
        "        self.args = {}\n",
        "\n",
        "    def add_train_loss(self, loss):\n",
        "        self.loss_train.append(loss.data.cpu().numpy())\n",
        "\n",
        "    def add_test_loss(self, loss):\n",
        "        self.loss_test.append(loss.data.cpu().numpy())\n",
        "\n",
        "    def add_train_accuracy(self, pred, labels):\n",
        "        accuracy = compute_recovery_rate(pred, labels)\n",
        "        self.accuracy_train.append(accuracy)\n",
        "\n",
        "    def add_test_accuracy(self, pred, labels):\n",
        "        accuracy = compute_recovery_rate(pred, labels)\n",
        "        self.accuracy_test.append(accuracy)\n",
        "\n",
        "    def plot_train_loss(self):\n",
        "        plt.figure(0)\n",
        "        plt.clf()\n",
        "        iters = range(len(self.loss_train))\n",
        "        plt.semilogy(iters, self.loss_train, 'b')\n",
        "        plt.xlabel('iterations')\n",
        "        plt.ylabel('Cross Entropy Loss')\n",
        "        plt.title('Training Loss: p={}, C={}'.format(self.args['edge density'], self.args['planted clique size']))\n",
        "\n",
        "    def plot_train_accuracy(self):\n",
        "        plt.figure(1)\n",
        "        plt.clf()\n",
        "        iters = range(len(self.accuracy_train))\n",
        "        plt.plot(iters, self.accuracy_train, 'b')\n",
        "        plt.xlabel('iterations')\n",
        "        plt.ylabel('Accuracy')\n",
        "        plt.title('Training Accuracy: p={}, C={}'.format(self.args['edge density'], self.args['planted clique size']))"
      ],
      "execution_count": 0,
      "outputs": []
    },
    {
      "metadata": {
        "id": "icJ113zPOzgy",
        "colab_type": "text"
      },
      "cell_type": "markdown",
      "source": [
        "### Trainer"
      ]
    },
    {
      "metadata": {
        "id": "Ik0sgcVVOzgy",
        "colab_type": "code",
        "colab": {
          "autoexec": {
            "startup": false,
            "wait_interval": 0
          },
          "base_uri": "https://localhost:8080/",
          "height": 1117
        },
        "outputId": "c8f3437f-dd5f-4b4e-83e9-0cd83b01ed23",
        "executionInfo": {
          "status": "ok",
          "timestamp": 1525803518324,
          "user_tz": 240,
          "elapsed": 70482,
          "user": {
            "displayName": "Luca Venturi",
            "photoUrl": "https://lh3.googleusercontent.com/a/default-user=s128",
            "userId": "101973500851832681079"
          }
        }
      },
      "cell_type": "code",
      "source": [
        "def train(model, generator, logger, iterations=60000, batch_size=32, clip_grad_norm=40.0, print_freq=100):\n",
        "    # model should be a gnn\n",
        "    # generator is the data_generator\n",
        "    optimizer = get_optimizer(model)\n",
        "    for iter_count in range(iterations):\n",
        "        G, labels = generator.sample_batch(batch_size)\n",
        "        pred = model(G)\n",
        "        loss = compute_loss(pred, labels)\n",
        "        model.zero_grad()\n",
        "        loss.backward()\n",
        "        nn.utils.clip_grad_norm(model.parameters(), clip_grad_norm)\n",
        "        optimizer.step()\n",
        "        logger.add_train_loss(loss)\n",
        "        logger.add_train_accuracy(pred, labels)\n",
        "        if iter_count % print_freq == 0:\n",
        "            print('Iter: {}, Loss: {:.4}'.format(iter_count,loss.data[0]))\n",
        "    logger.plot_train_accuracy()\n",
        "    logger.plot_train_loss()\n",
        "    print('Optimization finished.')\n",
        "    \n",
        "# Test\n",
        "\n",
        "args = {'edge density' : 0.4, 'planted clique size' : 10}\n",
        "logger = make_logger()\n",
        "logger.args = args\n",
        "generator = dataGenerator()\n",
        "generator.edge_density = args['edge density']\n",
        "generator.clique_size = args['planted clique size']\n",
        "generator.NUM_SAMPLES_train = 1000\n",
        "generator.N = 50\n",
        "J = 5\n",
        "generator.J = J-2\n",
        "generator.create_train_dataset()\n",
        "print('Dataset created')\n",
        "num_features = 10\n",
        "num_layers = 5\n",
        "gnn = GNN(num_features, num_layers, J).type(dtype)\n",
        "train(gnn, generator, logger, iterations=2000, batch_size=32)\n",
        "\n",
        "# Test: OK"
      ],
      "execution_count": 76,
      "outputs": [
        {
          "output_type": "stream",
          "text": [
            "Dataset created\n",
            "Iter: 0, Loss: 1.123\n",
            "Iter: 100, Loss: 0.02266\n",
            "Iter: 200, Loss: 0.01887\n",
            "Iter: 300, Loss: 0.004496\n",
            "Iter: 400, Loss: 0.07645\n",
            "Iter: 500, Loss: 0.005446\n",
            "Iter: 600, Loss: 0.00678\n",
            "Iter: 700, Loss: 0.1283\n",
            "Iter: 800, Loss: 0.0603\n",
            "Iter: 900, Loss: 0.1136\n",
            "Iter: 1000, Loss: 0.01789\n",
            "Iter: 1100, Loss: 0.004448\n",
            "Iter: 1200, Loss: 0.001516\n",
            "Iter: 1300, Loss: 0.002435\n",
            "Iter: 1400, Loss: 0.00129\n",
            "Iter: 1500, Loss: 0.002858\n",
            "Iter: 1600, Loss: 0.009459\n",
            "Iter: 1700, Loss: 0.0006285\n",
            "Iter: 1800, Loss: 0.01029\n",
            "Iter: 1900, Loss: 0.001058\n",
            "Optimization finished.\n"
          ],
          "name": "stdout"
        },
        {
          "output_type": "display_data",
          "data": {
            "image/png": "[encoded data removed]",
            "text/plain": [
              "<matplotlib.figure.Figure at 0x7fcef9196d30>"
            ]
          },
          "metadata": {
            "tags": []
          }
        },
        {
          "output_type": "display_data",
          "data": {
            "image/png": "[encoded data removed]",
            "text/plain": [
              "<matplotlib.figure.Figure at 0x7fcef9120588>"
            ]
          },
          "metadata": {
            "tags": []
          }
        }
      ]
    },
    {
      "metadata": {
        "id": "SC1YsbMMOzg0",
        "colab_type": "text"
      },
      "cell_type": "markdown",
      "source": [
        "### Main\n"
      ]
    },
    {
      "metadata": {
        "id": "H9-leymjOzg2",
        "colab_type": "code",
        "colab": {
          "autoexec": {
            "startup": false,
            "wait_interval": 0
          },
          "base_uri": "https://localhost:8080/",
          "height": 1638
        },
        "outputId": "0a4047da-e4ea-4a57-ee4b-41809324b210",
        "executionInfo": {
          "status": "ok",
          "timestamp": 1525804161276,
          "user_tz": 240,
          "elapsed": 565326,
          "user": {
            "displayName": "Luca Venturi",
            "photoUrl": "https://lh3.googleusercontent.com/a/default-user=s128",
            "userId": "101973500851832681079"
          }
        }
      },
      "cell_type": "code",
      "source": [
        "args = {'edge density' : 0.5, 'planted clique size' : 6}\n",
        "logger = make_logger()\n",
        "logger.args = args\n",
        "generator = dataGenerator()\n",
        "generator.edge_density = args['edge density']\n",
        "generator.clique_size = args['planted clique size']\n",
        "generator.NUM_SAMPLES_train = 20000\n",
        "generator.N = 50\n",
        "J = 6\n",
        "generator.J = J-2\n",
        "generator.create_train_dataset()\n",
        "print('Dataset created')\n",
        "num_features = 20\n",
        "num_layers = 20\n",
        "gnn = GNN(num_features, num_layers, J).type(dtype)\n",
        "train(gnn, generator, logger, iterations=5000, batch_size=32)"
      ],
      "execution_count": 77,
      "outputs": [
        {
          "output_type": "stream",
          "text": [
            "Dataset created\n",
            "Iter: 0, Loss: 1.27\n",
            "Iter: 100, Loss: 0.3192\n",
            "Iter: 200, Loss: 0.3292\n",
            "Iter: 300, Loss: 0.3814\n",
            "Iter: 400, Loss: 0.337\n",
            "Iter: 500, Loss: 0.4735\n",
            "Iter: 600, Loss: 0.4345\n",
            "Iter: 700, Loss: 0.4006\n",
            "Iter: 800, Loss: 0.3967\n",
            "Iter: 900, Loss: 0.3018\n",
            "Iter: 1000, Loss: 0.3483\n",
            "Iter: 1100, Loss: 0.3304\n",
            "Iter: 1200, Loss: 0.3093\n",
            "Iter: 1300, Loss: 0.3311\n",
            "Iter: 1400, Loss: 0.339\n",
            "Iter: 1500, Loss: 0.2803\n",
            "Iter: 1600, Loss: 0.3469\n",
            "Iter: 1700, Loss: 0.3781\n",
            "Iter: 1800, Loss: 0.2966\n",
            "Iter: 1900, Loss: 0.4529\n",
            "Iter: 2000, Loss: 0.3241\n",
            "Iter: 2100, Loss: 0.3261\n",
            "Iter: 2200, Loss: 0.3106\n",
            "Iter: 2300, Loss: 0.3516\n",
            "Iter: 2400, Loss: 0.4759\n",
            "Iter: 2500, Loss: 0.3719\n",
            "Iter: 2600, Loss: 0.3218\n",
            "Iter: 2700, Loss: 0.4645\n",
            "Iter: 2800, Loss: 0.3159\n",
            "Iter: 2900, Loss: 0.3058\n",
            "Iter: 3000, Loss: 0.3517\n",
            "Iter: 3100, Loss: 0.3571\n",
            "Iter: 3200, Loss: 0.3195\n",
            "Iter: 3300, Loss: 0.339\n",
            "Iter: 3400, Loss: 0.3035\n",
            "Iter: 3500, Loss: 0.2974\n",
            "Iter: 3600, Loss: 0.4156\n",
            "Iter: 3700, Loss: 0.3033\n",
            "Iter: 3800, Loss: 0.305\n",
            "Iter: 3900, Loss: 0.357\n",
            "Iter: 4000, Loss: 0.3163\n",
            "Iter: 4100, Loss: 0.4315\n",
            "Iter: 4200, Loss: 0.2729\n",
            "Iter: 4300, Loss: 0.3279\n",
            "Iter: 4400, Loss: 0.3352\n",
            "Iter: 4500, Loss: 0.3774\n",
            "Iter: 4600, Loss: 0.3461\n",
            "Iter: 4700, Loss: 0.3928\n",
            "Iter: 4800, Loss: 0.3527\n",
            "Iter: 4900, Loss: 0.3226\n",
            "Optimization finished.\n"
          ],
          "name": "stdout"
        },
        {
          "output_type": "display_data",
          "data": {
            "image/png": "[encoded data removed]",
            "text/plain": [
              "<matplotlib.figure.Figure at 0x7fcf3a5104a8>"
            ]
          },
          "metadata": {
            "tags": []
          }
        },
        {
          "output_type": "display_data",
          "data": {
            "image/png": "[encoded data removed]",
            "text/plain": [
              "<matplotlib.figure.Figure at 0x7fcecb2b36a0>"
            ]
          },
          "metadata": {
            "tags": []
          }
        }
      ]
    },
    {
      "metadata": {
        "id": "XMvWU7v_2JXs",
        "colab_type": "text"
      },
      "cell_type": "markdown",
      "source": [
        "### Test"
      ]
    },
    {
      "metadata": {
        "id": "p41w8ptvtvt4",
        "colab_type": "code",
        "colab": {
          "autoexec": {
            "startup": false,
            "wait_interval": 0
          },
          "base_uri": "https://localhost:8080/",
          "height": 69
        },
        "outputId": "ba6ca079-1c0d-4ccc-e41f-313854888201",
        "executionInfo": {
          "status": "ok",
          "timestamp": 1525804704240,
          "user_tz": 240,
          "elapsed": 5106,
          "user": {
            "displayName": "Luca Venturi",
            "photoUrl": "https://lh3.googleusercontent.com/a/default-user=s128",
            "userId": "101973500851832681079"
          }
        }
      },
      "cell_type": "code",
      "source": [
        "def test(model, generator, logger):\n",
        "    # model should be a gnn\n",
        "    # generator is the data_generator\n",
        "    G, labels = generator.sample_batch(generator.NUM_SAMPLES_test, is_training=False)\n",
        "    pred = model(G)\n",
        "    logger.loss_test = []\n",
        "    logger.accuracy_test = []\n",
        "    for i in range(generator.NUM_SAMPLES_test):\n",
        "        loss = compute_loss(pred[i,:], labels[i,:])\n",
        "        logger.add_test_loss(loss)\n",
        "    logger.add_test_accuracy(pred, labels)\n",
        "        \n",
        "    print('Test Loss: {:.4}'.format(np.mean(logger.loss_test)))\n",
        "    print('Test Accuracy: {:.4}'.format(np.mean(logger.accuracy_test)))\n",
        "\n",
        "generator.NUM_SAMPLES_test = 1000\n",
        "generator.create_test_dataset()\n",
        "print('Test dataset created')\n",
        "test(gnn, generator, logger)"
      ],
      "execution_count": 86,
      "outputs": [
        {
          "output_type": "stream",
          "text": [
            "Test dataset created\n",
            "Test Loss: 0.3066\n",
            "Test Accuracy: 0.88\n"
          ],
          "name": "stdout"
        }
      ]
    },
    {
      "metadata": {
        "id": "lGKQP-vPBPQ0",
        "colab_type": "code",
        "colab": {
          "autoexec": {
            "startup": false,
            "wait_interval": 0
          }
        }
      },
      "cell_type": "code",
      "source": [
        ""
      ],
      "execution_count": 0,
      "outputs": []
    }
  ]
}