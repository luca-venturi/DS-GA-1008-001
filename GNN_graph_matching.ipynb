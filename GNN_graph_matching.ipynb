{
  "nbformat": 4,
  "nbformat_minor": 0,
  "metadata": {
    "colab": {
      "name": "GNN_graph_matching.ipynb",
      "version": "0.3.2",
      "views": {},
      "default_view": {},
      "provenance": [],
      "collapsed_sections": []
    },
    "kernelspec": {
      "display_name": "Python 3",
      "language": "python",
      "name": "python3"
    },
    "accelerator": "GPU"
  },
  "cells": [
    {
      "metadata": {
        "id": "DcQsqc_0AQra",
        "colab_type": "text"
      },
      "cell_type": "markdown",
      "source": [
        "### Initialization"
      ]
    },
    {
      "metadata": {
        "id": "G30iqwTmhgal",
        "colab_type": "code",
        "colab": {
          "autoexec": {
            "startup": false,
            "wait_interval": 0
          }
        }
      },
      "cell_type": "code",
      "source": [
        "# http://pytorch.org/\n",
        "from os import path\n",
        "from wheel.pep425tags import get_abbr_impl, get_impl_ver, get_abi_tag\n",
        "platform = '{}{}-{}'.format(get_abbr_impl(), get_impl_ver(), get_abi_tag())\n",
        "\n",
        "accelerator = 'cu80' if path.exists('/opt/bin/nvidia-smi') else 'cpu'\n",
        "\n",
        "!pip install -q http://download.pytorch.org/whl/{accelerator}/torch-0.3.0.post4-{platform}-linux_x86_64.whl torchvision\n",
        "import torch"
      ],
      "execution_count": 0,
      "outputs": []
    },
    {
      "metadata": {
        "id": "uyaXrUEwVbqi",
        "colab_type": "code",
        "colab": {
          "autoexec": {
            "startup": false,
            "wait_interval": 0
          }
        }
      },
      "cell_type": "code",
      "source": [
        "import torch\n",
        "import torch.nn as nn\n",
        "from torch.nn import init\n",
        "from torch.autograd import Variable\n",
        "import torch.optim as optim\n",
        "import torch.nn.functional as F\n",
        "\n",
        "import numpy as np\n",
        "import networkx\n",
        "import matplotlib.pyplot as plt"
      ],
      "execution_count": 0,
      "outputs": []
    },
    {
      "metadata": {
        "id": "j2C6EYvy8iXG",
        "colab_type": "code",
        "colab": {
          "autoexec": {
            "startup": false,
            "wait_interval": 0
          }
        }
      },
      "cell_type": "code",
      "source": [
        "dtype = torch.cuda.FloatTensor\n",
        "dtype_l = torch.cuda.LongTensor"
      ],
      "execution_count": 0,
      "outputs": []
    },
    {
      "metadata": {
        "id": "bIplHBdirPXS",
        "colab_type": "text"
      },
      "cell_type": "markdown",
      "source": [
        "### Data generator"
      ]
    },
    {
      "metadata": {
        "id": "4VAxrmBfVbqO",
        "colab_type": "code",
        "colab": {
          "autoexec": {
            "startup": false,
            "wait_interval": 0
          },
          "base_uri": "https://localhost:8080/",
          "height": 1250
        },
<<<<<<< HEAD
        "outputId": "81a67aef-6b58-4b5c-b4ab-aa8985628438",
        "executionInfo": {
          "status": "ok",
          "timestamp": 1525730452310,
          "user_tz": 240,
          "elapsed": 1356,
=======
        "outputId": "754a2939-ed3f-4bac-9a59-a72576c695b0",
        "executionInfo": {
          "status": "ok",
          "timestamp": 1525719620044,
          "user_tz": 240,
          "elapsed": 1282,
>>>>>>> 9478cba6f6c1ae0187c60020803561507554641b
          "user": {
            "displayName": "Luca Venturi",
            "photoUrl": "https://lh3.googleusercontent.com/a/default-user=s128",
            "userId": "101973500851832681079"
          }
        }
      },
      "cell_type": "code",
      "source": [
        "class dataGenerator:\n",
        "    def __init__(self):\n",
        "        self.NUM_SAMPLES_train = int(10e6)\n",
        "        self.NUM_SAMPLES_test = int(10e4)\n",
        "        self.data_train = []\n",
        "        self.data_test = []\n",
        "        self.J = 3\n",
        "        self.N = 50\n",
        "        self.edge_density = 0.2\n",
        "        self.noise = 0.03\n",
        "        \n",
        "    def ErdosRenyi(self, p, N):\n",
        "        G = networkx.erdos_renyi_graph(N, p)\n",
        "        W = networkx.adjacency_matrix(G).todense().astype(float)\n",
        "        W = np.array(W)\n",
        "        return W\n",
        "      \n",
        "    def compute_operators(self, W):\n",
        "        N = W.shape[0]\n",
        "        # OP = operators: {Id, W, W^2, ..., W^{J-1}, D, U}\n",
        "        deg = W.sum(1)\n",
        "        D = np.diag(deg)\n",
        "        W_pow = W.copy()\n",
        "        OP = np.zeros([N, N, self.J + 2])\n",
        "        OP[:, :, 0] = np.eye(N)\n",
        "        for j in range(self.J):\n",
        "            OP[:, :, j + 1] = W_pow.copy()\n",
        "            W_pow = np.minimum(np.dot(W_pow, W_pow), np.ones(W_pow.shape))\n",
        "        OP[:, :, self.J] = D\n",
        "        OP[:, :, self.J + 1] = np.ones((N, N)) * (1.0 / float(N))\n",
        "        x = np.reshape(deg, (N, 1))\n",
        "        return OP, x\n",
        "        \n",
        "    def compute_sample(self):\n",
        "        sample = {}\n",
        "        W = self.ErdosRenyi(self.edge_density,self.N)\n",
        "        # noise model from [arxiv 1602.04181], eq. (3.10)\n",
        "        pe1 = self.noise\n",
        "        pe2 = (self.edge_density * self.noise) / (1.0 - self.edge_density)\n",
        "        noise1 = self.ErdosRenyi(pe1, self.N)\n",
        "        noise2 = self.ErdosRenyi(pe2, self.N)\n",
        "        noisey_W = W * (1 - noise1) + (1 - W) * noise2\n",
        "        sample['OP'], sample['x'] = self.compute_operators(W)\n",
        "        sample['noisey_OP'], sample['noisey_x'] = self.compute_operators(noisey_W)\n",
        "        return sample\n",
        "    \n",
        "    def create_train_dataset(self):\n",
        "        self.data_train = []\n",
        "        for _ in range(self.NUM_SAMPLES_train):\n",
        "            sample = self.compute_sample()\n",
        "            self.data_train.append(sample)\n",
        "            \n",
        "    def create_test_dataset(self):\n",
        "        self.data_test = []\n",
        "        for _ in range(self.NUM_SAMPLES_test):\n",
        "            sample = self.compute_sample()\n",
        "            self.data_test.append(sample)\n",
        "            \n",
        "    def sample_batch(self, BATCH_SIZE, is_training=True, cuda=True, volatile=False):\n",
        "        if is_training:\n",
        "            data = self.data_train\n",
        "        else:\n",
        "            data = self.data_test\n",
        "        OP_size = data[0]['OP'].shape\n",
        "        x_size = data[0]['x'].shape\n",
        "        \n",
        "        OP = torch.zeros(OP_size).expand(BATCH_SIZE, *OP_size)\n",
        "        x = torch.zeros(x_size).expand(BATCH_SIZE, *x_size)\n",
        "        noisey_OP = torch.zeros(OP_size).expand(BATCH_SIZE, *OP_size)\n",
        "        noisey_x = torch.zeros(x_size).expand(BATCH_SIZE, *x_size)\n",
        "        \n",
        "        for i in range(BATCH_SIZE):\n",
        "            if is_training:\n",
        "                ind = np.random.randint(0, len(data))\n",
        "            else:\n",
        "                ind = i\n",
        "            OP[i] = torch.from_numpy(data[ind]['OP'])\n",
        "            x[i] = torch.from_numpy(data[ind]['x'])\n",
        "            noisey_OP[i] = torch.from_numpy(data[ind]['noisey_OP'])\n",
        "            noisey_x[i] = torch.from_numpy(data[ind]['noisey_x'])\n",
        "            \n",
        "        OP = Variable(OP, volatile=volatile)\n",
        "        x = Variable(x, volatile=volatile)\n",
        "        noisey_OP = Variable(noisey_OP, volatile=volatile)\n",
        "        noisey_x = Variable(noisey_x, volatile=volatile)\n",
        "        \n",
        "        if cuda:\n",
        "            return [OP.cuda(), x.cuda()], [noisey_OP.cuda(), noisey_x.cuda()]\n",
        "        else:\n",
        "            return [OP, x], [noisey_OP, noisey_x]\n",
        "          \n",
        "# Test\n",
        "\n",
        "generator = dataGenerator()\n",
        "generator.NUM_SAMPLES_train = 100\n",
        "generator.NUM_SAMPLES_test = 100\n",
        "generator.N = 50\n",
        "J = 5\n",
        "generator.J = J-2\n",
        "generator.create_train_dataset()\n",
        "generator.create_test_dataset()\n",
        "G1, G2 = generator.sample_batch(32)\n",
        "print(G1[0].size())\n",
        "print(G1[1][0].data.cpu().numpy())\n",
        "G1 = G1[0][0, :, :, 1]\n",
        "G2 = G2[0][0, :, :, 1]\n",
        "print(G1, G1.size())\n",
        "print(G2, G2.size())\n",
        "\n",
        "# Test: OK"
      ],
<<<<<<< HEAD
      "execution_count": 31,
=======
      "execution_count": 9,
>>>>>>> 9478cba6f6c1ae0187c60020803561507554641b
      "outputs": [
        {
          "output_type": "stream",
          "text": [
            "torch.Size([32, 50, 50, 5])\n",
<<<<<<< HEAD
            "[[11.]\n",
            " [ 9.]\n",
            " [ 8.]\n",
            " [13.]\n",
            " [10.]\n",
            " [17.]\n",
            " [12.]\n",
            " [10.]\n",
            " [ 7.]\n",
            " [ 8.]\n",
            " [ 8.]\n",
            " [ 6.]\n",
            " [ 7.]\n",
            " [10.]\n",
            " [13.]\n",
            " [13.]\n",
            " [12.]\n",
            " [ 6.]\n",
            " [11.]\n",
            " [ 7.]\n",
            " [ 8.]\n",
            " [ 8.]\n",
            " [ 9.]\n",
            " [12.]\n",
            " [ 8.]\n",
            " [ 8.]\n",
            " [ 6.]\n",
            " [ 8.]\n",
            " [15.]\n",
            " [ 9.]\n",
            " [13.]\n",
            " [ 9.]\n",
            " [ 9.]\n",
            " [ 5.]\n",
            " [10.]\n",
            " [13.]\n",
            " [ 9.]\n",
            " [ 9.]\n",
            " [ 8.]\n",
            " [ 8.]\n",
            " [11.]\n",
            " [ 7.]\n",
            " [ 4.]\n",
            " [ 6.]\n",
            " [ 7.]\n",
            " [ 4.]\n",
            " [14.]\n",
            " [ 6.]\n",
            " [10.]\n",
            " [11.]]\n",
            "Variable containing:\n",
            "    0     0     0  ...      0     0     0\n",
            "    0     0     0  ...      0     0     1\n",
            "    0     0     0  ...      0     0     0\n",
            "       ...          ⋱          ...       \n",
            "    0     0     0  ...      0     0     0\n",
            "    0     0     0  ...      0     0     1\n",
            "    0     1     0  ...      0     1     0\n",
=======
            "[[ 8.]\n",
            " [ 9.]\n",
            " [ 7.]\n",
            " [ 7.]\n",
            " [ 9.]\n",
            " [ 9.]\n",
            " [ 7.]\n",
            " [11.]\n",
            " [10.]\n",
            " [12.]\n",
            " [ 6.]\n",
            " [ 7.]\n",
            " [ 9.]\n",
            " [ 8.]\n",
            " [ 6.]\n",
            " [ 8.]\n",
            " [10.]\n",
            " [ 7.]\n",
            " [12.]\n",
            " [ 6.]\n",
            " [11.]\n",
            " [ 6.]\n",
            " [ 9.]\n",
            " [11.]\n",
            " [10.]\n",
            " [ 7.]\n",
            " [10.]\n",
            " [ 9.]\n",
            " [11.]\n",
            " [ 7.]\n",
            " [13.]\n",
            " [10.]\n",
            " [11.]\n",
            " [ 8.]\n",
            " [10.]\n",
            " [ 9.]\n",
            " [ 9.]\n",
            " [ 6.]\n",
            " [10.]\n",
            " [ 7.]\n",
            " [ 8.]\n",
            " [12.]\n",
            " [ 9.]\n",
            " [10.]\n",
            " [ 6.]\n",
            " [ 7.]\n",
            " [11.]\n",
            " [ 5.]\n",
            " [ 8.]\n",
            " [12.]]\n",
            "Variable containing:\n",
            "    0     0     0  ...      0     0     0\n",
            "    0     0     0  ...      0     0     0\n",
            "    0     0     0  ...      1     0     0\n",
            "       ...          ⋱          ...       \n",
            "    0     0     1  ...      0     0     1\n",
            "    0     0     0  ...      0     0     0\n",
            "    0     0     0  ...      1     0     0\n",
>>>>>>> 9478cba6f6c1ae0187c60020803561507554641b
            "[torch.cuda.FloatTensor of size 50x50 (GPU 0)]\n",
            " torch.Size([50, 50])\n",
            "Variable containing:\n",
            "    0     0     0  ...      0     0     0\n",
<<<<<<< HEAD
            "    0     0     0  ...      0     0     1\n",
            "    0     0     0  ...      0     0     0\n",
            "       ...          ⋱          ...       \n",
            "    0     0     0  ...      0     0     0\n",
            "    0     0     0  ...      0     0     1\n",
            "    0     1     0  ...      0     1     0\n",
=======
            "    0     0     0  ...      0     0     0\n",
            "    0     0     0  ...      1     0     0\n",
            "       ...          ⋱          ...       \n",
            "    0     0     1  ...      0     0     0\n",
            "    0     0     0  ...      0     0     0\n",
            "    0     0     0  ...      0     0     0\n",
>>>>>>> 9478cba6f6c1ae0187c60020803561507554641b
            "[torch.cuda.FloatTensor of size 50x50 (GPU 0)]\n",
            " torch.Size([50, 50])\n"
          ],
          "name": "stdout"
        }
      ]
    },
    {
      "metadata": {
        "id": "fvh2FOMygjVq",
        "colab_type": "text"
      },
      "cell_type": "markdown",
      "source": [
        "### GNN Model"
      ]
    },
    {
      "metadata": {
        "id": "T7OrzwsVOzgA",
        "colab_type": "code",
        "colab": {
          "autoexec": {
            "startup": false,
            "wait_interval": 0
          },
          "base_uri": "https://localhost:8080/",
          "height": 34
        },
<<<<<<< HEAD
        "outputId": "23825bbf-099f-4517-982b-1330b7d60bac",
        "executionInfo": {
          "status": "ok",
          "timestamp": 1525730452882,
          "user_tz": 240,
          "elapsed": 462,
=======
        "outputId": "cf65c7a3-1a39-4d33-fce7-4087cf299c3d",
        "executionInfo": {
          "status": "ok",
          "timestamp": 1525719928062,
          "user_tz": 240,
          "elapsed": 1590,
>>>>>>> 9478cba6f6c1ae0187c60020803561507554641b
          "user": {
            "displayName": "Luca Venturi",
            "photoUrl": "https://lh3.googleusercontent.com/a/default-user=s128",
            "userId": "101973500851832681079"
          }
        }
      },
      "cell_type": "code",
      "source": [
        "def gmul(input):\n",
        "    W, x = input\n",
        "    # x is a tensor of size (bs, N, num_features)\n",
        "    # W is a tensor of size (bs, N, N, J)\n",
        "    N = W.size()[-2]\n",
        "    W = W.split(1, 3) # W is a list of J tensors of size (bs, N, N, 1)\n",
        "    W = torch.cat(W, 1).squeeze(3) # W is now a tensor of size (bs, J*N, N)\n",
        "    output = torch.bmm(W, x) # matrix multiplication (J*N,N) x (N,num_features): output has size (bs, J*N, num_features)\n",
        "    output = output.split(N, 1) # output is a list of J tensors of size (bs, N, num_features)\n",
        "    output = torch.cat(output, 2)\n",
        "    # output has size (bs, N, J*num_features)\n",
        "    return output\n",
        "\n",
        "class Gconv(nn.Module):\n",
        "    def __init__(self, feature_maps, J):\n",
        "        super(Gconv, self).__init__()\n",
        "        self.num_inputs = J*feature_maps[0] # size of the input\n",
        "        self.num_outputs = feature_maps[1] # size of the output\n",
        "        self.fc1 = nn.Linear(self.num_inputs, self.num_outputs // 2)\n",
        "        self.fc2 = nn.Linear(self.num_inputs, self.num_outputs // 2)\n",
        "        self.bn = nn.BatchNorm1d(self.num_outputs)\n",
        "\n",
        "    def forward(self, input):\n",
        "        W = input[0]\n",
        "        x = gmul(input) # x has size (bs, N, num_inputs)\n",
        "        x_size = x.size()\n",
        "        x = x.contiguous() # makes sure that x is stored in a contiguous chunk of memory\n",
        "        x = x.view(-1, self.num_inputs)\n",
        "        x1 = F.relu(self.fc1(x)) # x_1 has size (bs*N, num_outputs // 2)\n",
        "        x2 = self.fc2(x) # x_2 has size (bs*N, num_outputs // 2)\n",
        "        x = torch.cat((x1, x2), 1) # x has size (bs*N, num_outputs)\n",
        "        x = self.bn(x)\n",
        "        x = x.view(*x_size[:-1], self.num_outputs) # x has size (bs, N, num_outputs)\n",
        "        return W, x\n",
        "      \n",
        "class Gconv_last(nn.Module):\n",
        "    def __init__(self, feature_maps, J):\n",
        "        super(Gconv_last, self).__init__()\n",
        "        self.num_inputs = J*feature_maps[0] # size of the input\n",
        "        self.num_outputs = feature_maps[1] # size of the output\n",
        "        self.fc = nn.Linear(self.num_inputs, self.num_outputs) # the only difference is that there is no activations layer\n",
        "\n",
        "    def forward(self, input):\n",
        "        W = input[0]\n",
        "        x = gmul(input) # out has size (bs, N, num_inputs)\n",
        "        x_size = x.size()\n",
        "        x = x.contiguous()\n",
        "        x = x.view(x_size[0]*x_size[1], -1) # x has size (bs*N, num_inputs)\n",
        "        x = self.fc(x) # x has size (bs*N, num_outputs)\n",
        "        x = x.view(*x_size[:-1], self.num_outputs) # x has size (bs, N, num_outputs)\n",
        "        return W, x\n",
        "\n",
        "class GNN(nn.Module):\n",
        "    def __init__(self, num_features, num_layers, J):\n",
        "        super(GNN, self).__init__()\n",
        "        self.num_features = num_features\n",
        "        self.num_layers = num_layers\n",
        "        self.featuremap_first = [1, num_features]\n",
        "        self.featuremap = [num_features, num_features]\n",
        "        self.layer0 = Gconv(self.featuremap_first, J)\n",
        "        for i in range(num_layers):\n",
        "            module = Gconv(self.featuremap, J)\n",
        "            self.add_module('layer{}'.format(i + 1), module)\n",
        "        self.layerlast = Gconv_last(self.featuremap, J)\n",
        "\n",
        "    def forward(self, input):\n",
        "        cur = self.layer0(input)\n",
        "        for i in range(self.num_layers):\n",
        "            cur = self._modules['layer{}'.format(i+1)](cur)\n",
        "        out = self.layerlast(cur)\n",
        "        return out[1]\n",
        "      \n",
        "class Siamese_GNN(nn.Module):\n",
        "    def __init__(self, num_features, num_layers, J):\n",
        "        super(Siamese_GNN, self).__init__()\n",
        "        self.gnn = GNN(num_features, num_layers, J)\n",
        "        \n",
        "    def forward(self, G1, G2):\n",
        "        emb1 = self.gnn(G1)\n",
        "        emb2 = self.gnn(G2)\n",
        "        # emb_ is a tensor of size (bs, N, num_features)\n",
        "        out = torch.bmm(emb1, emb2.permute(0, 2, 1))\n",
        "        # out is a tensor of size (bs, N, N)\n",
        "        return out\n",
        "      \n",
        "# Test\n",
        "\n",
        "num_features = 10\n",
        "num_layers = 5\n",
        "siamese_gnn = Siamese_GNN(num_features, num_layers, J).type(dtype)\n",
        "G1, G2 = generator.sample_batch(32)\n",
        "out = siamese_gnn(G1, G2)\n",
        "print(out.size())\n",
        "\n",
        "# Test: OK"
      ],
<<<<<<< HEAD
      "execution_count": 32,
=======
      "execution_count": 17,
>>>>>>> 9478cba6f6c1ae0187c60020803561507554641b
      "outputs": [
        {
          "output_type": "stream",
          "text": [
            "torch.Size([32, 50, 50])\n"
          ],
          "name": "stdout"
        }
      ]
    },
    {
      "metadata": {
        "id": "I4-8O1m49VhA",
        "colab_type": "text"
      },
      "cell_type": "markdown",
      "source": [
        "### Loss function"
      ]
    },
    {
      "metadata": {
        "id": "ht3hYCa7Ozgc",
        "colab_type": "code",
        "colab": {
          "autoexec": {
            "startup": false,
            "wait_interval": 0
          }
        }
      },
      "cell_type": "code",
      "source": [
        "base_loss = nn.CrossEntropyLoss()\n",
        "\n",
        "def compute_loss(pred, labels):\n",
        "    # pred has size (bs, N, N)\n",
        "    # labels has size (bs,N)\n",
        "    pred = pred.view(-1, pred.size()[-1])\n",
        "    labels = labels.view(-1)\n",
        "    return base_loss(pred, labels)"
      ],
      "execution_count": 0,
      "outputs": []
    },
    {
      "metadata": {
        "id": "m7pLn2lqBx-6",
        "colab_type": "text"
      },
      "cell_type": "markdown",
      "source": [
        "### Optimizer"
      ]
    },
    {
      "metadata": {
        "id": "Xr2XtjK3B3gw",
        "colab_type": "code",
        "colab": {
          "autoexec": {
            "startup": false,
            "wait_interval": 0
          }
        }
      },
      "cell_type": "code",
      "source": [
        "def get_optimizer(model):\n",
        "    optimizer = optim.Adam(model.type(dtype).parameters(), lr=1e-3)\n",
        "    return optimizer"
      ],
      "execution_count": 0,
      "outputs": []
    },
    {
      "metadata": {
        "id": "UMBxKhQAS36A",
        "colab_type": "text"
      },
      "cell_type": "markdown",
      "source": [
        "### Logger"
      ]
    },
    {
      "metadata": {
        "id": "Rwt2nQxbL7PE",
        "colab_type": "code",
        "colab": {
          "autoexec": {
            "startup": false,
            "wait_interval": 0
          }
        }
      },
      "cell_type": "code",
      "source": [
        "def compute_recovery_rate(pred, labels):\n",
<<<<<<< HEAD
        "    pred = pred.max(2)[1] # argmax\n",
=======
        "    pred = pred.argmax(2)\n",
>>>>>>> 9478cba6f6c1ae0187c60020803561507554641b
        "    error = 1 - torch.eq(pred, labels).type(dtype)\n",
        "    frob_norm = error.mean(1)\n",
        "    accuracy = 1 - frob_norm\n",
        "    accuracy = accuracy.mean(0).squeeze()\n",
        "    return accuracy.data.cpu().numpy()[0]\n",
        "\n",
        "class make_logger(object):\n",
        "    def __init__(self):\n",
        "        self.loss_train = []\n",
        "        self.loss_test = []\n",
        "        self.accuracy_train = []\n",
        "        self.accuracy_test = []\n",
        "        self.args = {}\n",
        "\n",
        "    def add_train_loss(self, loss):\n",
        "        self.loss_train.append(loss.data.cpu().numpy())\n",
        "\n",
        "    def add_test_loss(self, loss):\n",
        "        self.loss_test.append(loss)\n",
        "\n",
        "    def add_train_accuracy(self, pred, labels):\n",
        "        accuracy = compute_recovery_rate(pred, labels)\n",
        "        self.accuracy_train.append(accuracy)\n",
        "\n",
        "    def add_test_accuracy(self, pred, labels):\n",
        "        accuracy = compute_recovery_rate(pred, labels)\n",
        "        self.accuracy_test.append(accuracy)\n",
        "\n",
        "    def plot_train_loss(self):\n",
        "        plt.figure(0)\n",
        "        plt.clf()\n",
        "        iters = range(len(self.loss_train))\n",
        "        plt.semilogy(iters, self.loss_train, 'b')\n",
        "        plt.xlabel('iterations')\n",
        "        plt.ylabel('Cross Entropy Loss')\n",
<<<<<<< HEAD
        "        plt.title('Training Loss: p={}, p_e={}'.format(self.args['edge density'], self.args['noise']))\n",
        "\n",
        "    def plot_train_accuracy(self):\n",
        "        plt.figure(1)\n",
=======
        "        plt.title('Training Loss: p={}, p_e={}'.format(self.args['edge_density'], self.args['noise']))\n",
        "\n",
        "    def plot_train_accuracy(self):\n",
        "        plt.figure(1\n",
>>>>>>> 9478cba6f6c1ae0187c60020803561507554641b
        "        plt.clf()\n",
        "        iters = range(len(self.accuracy_train))\n",
        "        plt.plot(iters, self.accuracy_train, 'b')\n",
        "        plt.xlabel('iterations')\n",
        "        plt.ylabel('Accuracy')\n",
<<<<<<< HEAD
        "        plt.title('Training Accuracy: p={}, p_e={}'.format(self.args['edge density'], self.args['noise']))"
=======
        "        plt.title('Training Accuracy: p={}, p_e={}'.format(self.args['edge_density'], self.args['noise']))"
>>>>>>> 9478cba6f6c1ae0187c60020803561507554641b
      ],
      "execution_count": 0,
      "outputs": []
    },
    {
      "metadata": {
        "id": "icJ113zPOzgy",
        "colab_type": "text"
      },
      "cell_type": "markdown",
      "source": [
        "### Trainer"
      ]
    },
    {
      "metadata": {
        "id": "Ik0sgcVVOzgy",
        "colab_type": "code",
        "colab": {
          "autoexec": {
            "startup": false,
            "wait_interval": 0
          },
          "base_uri": "https://localhost:8080/",
<<<<<<< HEAD
          "height": 1117
        },
        "outputId": "02c3098d-364d-460a-a259-e53dfcda60ca",
        "executionInfo": {
          "status": "ok",
          "timestamp": 1525732310958,
          "user_tz": 240,
          "elapsed": 100246,
=======
          "height": 238
        },
        "outputId": "6fda8f2c-99bd-4b51-94ed-33b9641db9c9",
        "executionInfo": {
          "status": "error",
          "timestamp": 1525725313292,
          "user_tz": 240,
          "elapsed": 320,
>>>>>>> 9478cba6f6c1ae0187c60020803561507554641b
          "user": {
            "displayName": "Luca Venturi",
            "photoUrl": "https://lh3.googleusercontent.com/a/default-user=s128",
            "userId": "101973500851832681079"
          }
        }
      },
      "cell_type": "code",
      "source": [
<<<<<<< HEAD
        "def train(model, generator, logger, iterations=60000, batch_size=32, clip_grad_norm=40.0, print_freq=100):\n",
=======
        "def train(model, generator, logger, iterations=60000, batch_size=32, clip_grad_norm=40.0, print_freq=1000):\n",
>>>>>>> 9478cba6f6c1ae0187c60020803561507554641b
        "    # model should be a siamese_gnn\n",
        "    # generator is the data_generator\n",
        "    labels = Variable(torch.arange(0, generator.N).unsqueeze(0).expand(batch_size,generator.N)).type(dtype_l)\n",
        "    # labels: [1,...,N] -> [[1,...N]] -> [[1,...N],...[1,...N]] of shape [batch_size,N]\n",
        "    # the labels are these since the embedding the GNN should reproduce are identities\n",
        "    optimizer = get_optimizer(model)\n",
        "    for iter_count in range(iterations):\n",
        "        input = generator.sample_batch(batch_size)\n",
        "        pred = model(*input)\n",
        "        loss = compute_loss(pred, labels)\n",
        "        model.zero_grad()\n",
        "        loss.backward()\n",
        "        nn.utils.clip_grad_norm(model.parameters(), clip_grad_norm)\n",
        "        optimizer.step()\n",
<<<<<<< HEAD
        "        logger.add_train_loss(loss)\n",
        "        logger.add_train_accuracy(pred, labels)\n",
        "        if iter_count % print_freq == 0:\n",
        "            print('Iter: {}, Loss: {:.4}'.format(iter_count,loss.data[0]))\n",
        "    logger.plot_train_accuracy()\n",
        "    logger.plot_train_loss()\n",
=======
        "        if iter_count % print_freq == 0:\n",
        "            print('Iter: {}, Loss: {:.4}'.format(iter_count,loss.data[0]))\n",
>>>>>>> 9478cba6f6c1ae0187c60020803561507554641b
        "    print('Optimization finished.')\n",
        "    \n",
        "# Test\n",
        "\n",
        "args = {'edge density' : 0.2, 'noise' : 0.03}\n",
        "logger = make_logger()\n",
        "logger.args = args\n",
        "generator = dataGenerator()\n",
        "generator.edge_density = args['edge density']\n",
        "generator.noise = args['noise']\n",
        "generator.NUM_SAMPLES_train = 1000\n",
        "generator.N = 50\n",
        "J = 5\n",
        "generator.J = J-2\n",
        "generator.create_train_dataset()\n",
        "print('Dataset created')\n",
        "num_features = 10\n",
        "num_layers = 5\n",
        "siamese_gnn = Siamese_GNN(num_features, num_layers, J).type(dtype)\n",
<<<<<<< HEAD
        "train(siamese_gnn, generator, logger, iterations=2000, batch_size=32)\n",
        "\n",
        "# Test: OK"
      ],
      "execution_count": 48,
      "outputs": [
        {
          "output_type": "stream",
          "text": [
            "Dataset created\n",
            "Iter: 0, Loss: 17.55\n",
            "Iter: 100, Loss: 2.431\n",
            "Iter: 200, Loss: 1.681\n",
            "Iter: 300, Loss: 1.416\n",
            "Iter: 400, Loss: 1.386\n",
            "Iter: 500, Loss: 0.7828\n",
            "Iter: 600, Loss: 1.229\n",
            "Iter: 700, Loss: 1.759\n",
            "Iter: 800, Loss: 1.442\n",
            "Iter: 900, Loss: 1.166\n",
            "Iter: 1000, Loss: 0.766\n",
            "Iter: 1100, Loss: 2.325\n",
            "Iter: 1200, Loss: 0.9192\n",
            "Iter: 1300, Loss: 0.6507\n",
            "Iter: 1400, Loss: 1.066\n",
            "Iter: 1500, Loss: 1.211\n",
            "Iter: 1600, Loss: 0.5415\n",
            "Iter: 1700, Loss: 0.5329\n",
            "Iter: 1800, Loss: 0.5926\n",
            "Iter: 1900, Loss: 0.6304\n",
            "Optimization finished.\n"
          ],
          "name": "stdout"
        },
        {
          "output_type": "display_data",
          "data": {
            "image/png": "iVBORw0KGgoAAAANSUhEUgAAAe8AAAFnCAYAAACPasF4AAAABHNCSVQICAgIfAhkiAAAAAlwSFlz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\n",
            "text/plain": [
              "<matplotlib.figure.Figure at 0x7f14952ed550>"
            ]
          },
          "metadata": {
            "tags": []
          }
        },
        {
          "output_type": "display_data",
          "data": {
            "image/png": "iVBORw0KGgoAAAANSUhEUgAAAfIAAAFnCAYAAABdOssgAAAABHNCSVQICAgIfAhkiAAAAAlwSFlz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\nf5MFZRGNAAAAAElFTkSuQmCC\n",
            "text/plain": [
              "<matplotlib.figure.Figure at 0x7f14eff3d2e8>"
            ]
          },
          "metadata": {
            "tags": []
          }
=======
        "train(siamese_gnn, generator, iterations=2000, batch_size=32, print_freq=100)\n",
        "\n",
        "# Test: OK"
      ],
      "execution_count": 27,
      "outputs": [
        {
          "output_type": "error",
          "ename": "NameError",
          "evalue": "ignored",
          "traceback": [
            "\u001b[0;31m---------------------------------------------------------------------------\u001b[0m",
            "\u001b[0;31mNameError\u001b[0m                                 Traceback (most recent call last)",
            "\u001b[0;32m<ipython-input-27-7e61280be15d>\u001b[0m in \u001b[0;36m<module>\u001b[0;34m()\u001b[0m\n\u001b[1;32m     21\u001b[0m \u001b[0;34m\u001b[0m\u001b[0m\n\u001b[1;32m     22\u001b[0m \u001b[0margs\u001b[0m \u001b[0;34m=\u001b[0m \u001b[0;34m{\u001b[0m\u001b[0;34m'edge density'\u001b[0m \u001b[0;34m:\u001b[0m \u001b[0;36m0.2\u001b[0m\u001b[0;34m,\u001b[0m \u001b[0;34m'noise'\u001b[0m \u001b[0;34m:\u001b[0m \u001b[0;36m0.03\u001b[0m\u001b[0;34m}\u001b[0m\u001b[0;34m\u001b[0m\u001b[0m\n\u001b[0;32m---> 23\u001b[0;31m \u001b[0mlogger\u001b[0m \u001b[0;34m=\u001b[0m \u001b[0mmake_logger\u001b[0m\u001b[0;34m(\u001b[0m\u001b[0;34m)\u001b[0m\u001b[0;34m\u001b[0m\u001b[0m\n\u001b[0m\u001b[1;32m     24\u001b[0m \u001b[0mlogger\u001b[0m\u001b[0;34m.\u001b[0m\u001b[0margs\u001b[0m \u001b[0;34m=\u001b[0m \u001b[0margs\u001b[0m\u001b[0;34m\u001b[0m\u001b[0m\n\u001b[1;32m     25\u001b[0m \u001b[0mgenerator\u001b[0m \u001b[0;34m=\u001b[0m \u001b[0mdataGenerator\u001b[0m\u001b[0;34m(\u001b[0m\u001b[0;34m)\u001b[0m\u001b[0;34m\u001b[0m\u001b[0m\n",
            "\u001b[0;31mNameError\u001b[0m: name 'make_logger' is not defined"
          ]
>>>>>>> 9478cba6f6c1ae0187c60020803561507554641b
        }
      ]
    },
    {
      "metadata": {
        "id": "SC1YsbMMOzg0",
        "colab_type": "text"
      },
      "cell_type": "markdown",
      "source": [
        "### Main\n"
      ]
    },
    {
      "metadata": {
        "id": "H9-leymjOzg2",
        "colab_type": "code",
        "colab": {
          "autoexec": {
            "startup": false,
            "wait_interval": 0
          }
        }
      },
      "cell_type": "code",
      "source": [
<<<<<<< HEAD
        "args = {'edge density' : 0.2, 'noise' : 0.03}\n",
        "logger = make_logger()\n",
        "logger.args = args\n",
        "generator = dataGenerator()\n",
        "generator.edge_density = args['edge density']\n",
        "generator.noise = args['noise']\n",
        "generator.NUM_SAMPLES_train = 20000\n",
        "generator.N = 50\n",
        "J = 6\n",
        "generator.J = J-2\n",
        "generator.create_train_dataset()\n",
        "print('Dataset created')\n",
        "num_features = 20\n",
        "num_layers = 20\n",
        "siamese_gnn = Siamese_GNN(num_features, num_layers, J).type(dtype)\n",
        "train(siamese_gnn, generator, logger, iterations=60000, batch_size=32)"
      ],
      "execution_count": 0,
      "outputs": []
    },
    {
      "metadata": {
        "id": "p41w8ptvtvt4",
        "colab_type": "code",
        "colab": {
          "autoexec": {
            "startup": false,
            "wait_interval": 0
          }
        }
      },
      "cell_type": "code",
      "source": [
=======
>>>>>>> 9478cba6f6c1ae0187c60020803561507554641b
        ""
      ],
      "execution_count": 0,
      "outputs": []
    }
  ]
<<<<<<< HEAD
}
=======
}
>>>>>>> 9478cba6f6c1ae0187c60020803561507554641b
